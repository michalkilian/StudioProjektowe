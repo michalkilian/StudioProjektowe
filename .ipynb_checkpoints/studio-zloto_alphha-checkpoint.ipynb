{
 "cells": [
  {
   "cell_type": "markdown",
   "metadata": {},
   "source": [
    "# Studio Projektowe"
   ]
  },
  {
   "cell_type": "markdown",
   "metadata": {},
   "source": [
    "## Pobranie danych z API NBP"
   ]
  },
  {
   "cell_type": "code",
   "execution_count": 16,
   "metadata": {},
   "outputs": [],
   "source": [
    "import requests\n",
    "import pandas as pd\n",
    "import numpy as np\n",
    "import datetime\n",
    "\n",
    "from sklearn.linear_model import LinearRegression\n",
    "from sklearn.svm import SVR\n",
    "from sklearn.model_selection import train_test_split\n",
    "\n",
    "\n",
    "def loadData():\n",
    "    col_names = ['date', 'price']\n",
    "    tmp_data = []\n",
    "    for i in range(2013, 2020):\n",
    "        tmp_df = pd.DataFrame(columns=col_names)\n",
    "        response = requests.get(f'http://api.nbp.pl/api/cenyzlota/{i}-01-01/{i}-12-31?format=json')\n",
    "        response = response.json()\n",
    "        response = pd.DataFrame(response)\n",
    "        tmp_df['date'] = response['data']\n",
    "        tmp_df['price'] = response['cena']\n",
    "        tmp_data.append(tmp_df)\n",
    "    data = pd.concat(tmp_data, ignore_index=True)\n",
    "    \n",
    "    today = datetime.date.today()\n",
    "    tmp_df = pd.DataFrame(columns=col_names)\n",
    "    response = requests.get(f'http://api.nbp.pl/api/cenyzlota/2020-01-01/{today}?format=json')\n",
    "    response = response.json()\n",
    "    response = pd.DataFrame(response)\n",
    "    tmp_df['date'] = response['data']\n",
    "    tmp_df['price'] = response['cena']\n",
    "    data = pd.concat([data, tmp_df], ignore_index=True)\n",
    "    return data\n",
    "\n",
    "def saveDataToFile(data):\n",
    "    data.to_csv('data.csv', index=False)\n",
    "\n",
    "data = loadData()\n",
    "saveDataToFile(data)"
   ]
  },
  {
   "cell_type": "markdown",
   "metadata": {},
   "source": [
    "## Przetwarzanie danych"
   ]
  },
  {
   "cell_type": "code",
   "execution_count": 17,
   "metadata": {},
   "outputs": [
    {
     "name": "stderr",
     "output_type": "stream",
     "text": [
      "<ipython-input-17-bc4f3c9ed5a6>:13: UserWarning: Boolean Series key will be reindexed to match DataFrame index.\n",
      "  months = [[years[i][data.month == j] for j in range(1,13)] for i in range(8)]\n"
     ]
    }
   ],
   "source": [
    "def addTimeColumns(data):\n",
    "    data['date'] = data['date'].astype('datetime64')\n",
    "    data['year'] = data['date'].dt.year\n",
    "    data['month'] = data['date'].dt.month\n",
    "    data['day'] = data['date'].dt.day\n",
    "    data['weekday'] = data['date'].dt.weekday\n",
    "    return data\n",
    "\n",
    "data = addTimeColumns(data)\n",
    "\n",
    "years = [data[data.year == i] for i in range(2013, 2021)]\n",
    "\n",
    "months = [[years[i][data.month == j] for j in range(1,13)] for i in range(8)]\n"
   ]
  },
  {
   "cell_type": "markdown",
   "metadata": {},
   "source": [
    "## Podział danych na zbiory treningowe i testowe"
   ]
  },
  {
   "cell_type": "code",
   "execution_count": 18,
   "metadata": {},
   "outputs": [
    {
     "name": "stdout",
     "output_type": "stream",
     "text": [
      "             price\n",
      "date              \n",
      "2013-01-02  165.83\n",
      "2013-01-03  166.97\n",
      "2013-01-04  167.43\n",
      "2013-01-07  167.98\n",
      "2013-01-08  167.26\n",
      "...            ...\n",
      "2020-11-17  229.03\n",
      "2020-11-18  230.06\n",
      "2020-11-19  226.93\n",
      "2020-11-20  226.17\n",
      "2020-11-23  227.23\n",
      "\n",
      "[1990 rows x 1 columns]\n"
     ]
    },
    {
     "name": "stderr",
     "output_type": "stream",
     "text": [
      "<ipython-input-18-706f9030ff92>:8: SettingWithCopyWarning: \n",
      "A value is trying to be set on a copy of a slice from a DataFrame.\n",
      "Try using .loc[row_indexer,col_indexer] = value instead\n",
      "\n",
      "See the caveats in the documentation: https://pandas.pydata.org/pandas-docs/stable/user_guide/indexing.html#returning-a-view-versus-a-copy\n",
      "  df['Prediction'] = df[['price']].shift(-forecast_out)\n"
     ]
    }
   ],
   "source": [
    "data.index = data['date']\n",
    "df = data[['price']]\n",
    "print(df)\n",
    "\n",
    "# a variable for predicting 30 days out into the future\n",
    "forecast_out = 30\n",
    "\n",
    "df['Prediction'] = df[['price']].shift(-forecast_out)\n",
    "data.tail(40)\n",
    "\n",
    "# Convert the dataframe to a numpy array\n",
    "X = np.array(df.drop(['Prediction'],1))\n",
    "\n",
    "# Remove the last '30' rows\n",
    "X = X[:-forecast_out]\n",
    "\n",
    "# Convert the dataframe to a numpy array \n",
    "y = np.array(df['Prediction'])\n",
    "\n",
    "# Get all of the y values except the last '30' rows\n",
    "y = y[:-forecast_out]\n",
    "\n",
    "# Split the data into training set and testing set\n",
    "x_train, x_test, y_train, y_test = train_test_split(X, y, test_size=0.015 )\n",
    "\n",
    "x_forecast = np.array(df.drop(['Prediction'], 1))[-forecast_out:]"
   ]
  },
  {
   "cell_type": "code",
   "execution_count": 22,
   "metadata": {},
   "outputs": [
    {
     "name": "stdout",
     "output_type": "stream",
     "text": [
      "SVM Confidence:  0.9616039302997276\n",
      "SVM Prediction Output\n",
      "[230.62008023 230.13168907 225.67634861 230.8737589  238.19948818\n",
      " 233.00687372 237.90107742 237.52018109 232.15651133 238.42576214\n",
      " 238.14085428 237.98139414 235.3700387  237.03070769 237.73477067\n",
      " 232.16211005 232.55205416 232.2292076  234.79637357 232.41981377\n",
      " 234.37580757 232.12676334 230.89224646 228.80846683 226.64106055\n",
      " 228.80846683 225.92413106 232.1951819  231.12553884 232.40981178]\n",
      "LR Confidence:  0.9398547683145247\n",
      "Linear Regression Prediction Output\n",
      "[236.81469724 237.21156733 232.98846247 237.61861358 239.08398009\n",
      " 241.2006206  239.93877722 240.05071494 241.92312769 239.17556549\n",
      " 239.06362778 239.01274699 240.55952275 238.7786954  239.989658\n",
      " 241.84171844 242.84915791 242.1775316  240.69181278 241.49572913\n",
      " 240.79357434 229.13169924 230.64794652 231.329749   233.42603719\n",
      " 231.329749   232.37789309 229.19275617 228.4193683  229.49804086]\n"
     ]
    }
   ],
   "source": [
    "# Support Vector Machine (Regression)\n",
    "svr_rbf = SVR(kernel='rbf', C=1e3, gamma=0.1)\n",
    "svr_rbf.fit(x_train, y_train)\n",
    "\n",
    "svm_confidence = svr_rbf.score(x_test, y_test)\n",
    "print(\"SVM Confidence: \", svm_confidence) # the best possible score is 1.0\n",
    "\n",
    "svm_prediction = svr_rbf.predict(x_forecast)\n",
    "\n",
    "# SVM Prediction output\n",
    "print(\"SVM Prediction Output\")\n",
    "print(svm_prediction)\n",
    "\n",
    "# Linear Regression\n",
    "lr = LinearRegression()\n",
    "lr.fit(x_train, y_train)\n",
    "\n",
    "lr_confidence = lr.score(x_test, y_test)\n",
    "print(\"LR Confidence: \", lr_confidence)\n",
    "\n",
    "lr_prediction = lr.predict(x_forecast)\n",
    "\n",
    "# Linear Regression Prediction Output\n",
    "print(\"Linear Regression Prediction Output\")\n",
    "print(lr_prediction)"
   ]
  },
  {
   "cell_type": "code",
   "execution_count": null,
   "metadata": {},
   "outputs": [],
   "source": []
  }
 ],
 "metadata": {
  "kernelspec": {
   "display_name": "Python 3",
   "language": "python",
   "name": "python3"
  },
  "language_info": {
   "codemirror_mode": {
    "name": "ipython",
    "version": 3
   },
   "file_extension": ".py",
   "mimetype": "text/x-python",
   "name": "python",
   "nbconvert_exporter": "python",
   "pygments_lexer": "ipython3",
   "version": "3.6.5"
  }
 },
 "nbformat": 4,
 "nbformat_minor": 4
}
